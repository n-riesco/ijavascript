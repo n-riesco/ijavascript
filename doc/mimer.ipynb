{
 "metadata": {
  "kernelspec": {
   "display_name": "Javascript (Node.js)",
   "language": "javascript",
   "name": "javascript"
  },
  "language_info": {
   "file_extension": "js",
   "mimetype": "application/javascript",
   "name": "javascript",
   "version": "0.10.25"
  },
  "name": ""
 },
 "nbformat": 3,
 "nbformat_minor": 0,
 "worksheets": [
  {
   "cells": [
    {
     "cell_type": "markdown",
     "metadata": {},
     "source": [
      "# Customised Output\n",
      "\n",
      "By default, the IJavascript kernel returns plain text outputs. The function used to convert a result into a MIME representation is available via the global variable `$$mimer$$`. The below code illustrates how it works:"
     ]
    },
    {
     "cell_type": "code",
     "collapsed": false,
     "input": [
      "$$mimer$$(\"Hello, world!\");"
     ],
     "language": "python",
     "metadata": {},
     "outputs": [
      {
       "metadata": {},
       "output_type": "pyout",
       "prompt_number": 1,
       "text": [
        "{ 'text/plain': '\\'Hello, world!\\'' }"
       ]
      }
     ],
     "prompt_number": 1
    },
    {
     "cell_type": "markdown",
     "metadata": {},
     "source": [
      "`$$mimer$$` can be redefined to return alternative MIME representations. The following examples progress from a simple `$$mimer$$` that adds a `text/html` MIME representation to a `$$mimer$$` that customises the output of specific class instances."
     ]
    },
    {
     "cell_type": "markdown",
     "metadata": {},
     "source": [
      "## Simple `text/html` `$$mimer$$`\n",
      "\n",
      "This `$$mimer$$` invokes the default `$$mimer$$`. If the default `$$mimer$$` doesn't return a `text/html` MIME representation, it generates one by surrounding the `text/plain` MIME representation within a `<pre>` tag."
     ]
    },
    {
     "cell_type": "code",
     "collapsed": false,
     "input": [
      "var defaultMimer = $$mimer$$;\n",
      "\n",
      "function htmlMimer(object) {\n",
      "    var mime  = defaultMimer(object);\n",
      "\n",
      "    if (!(\"text/html\" in mime) && (\"text/plain\" in mime)) {\n",
      "        mime[\"text/html\"] = (\n",
      "            \"<pre>\" +\n",
      "            mime[\"text/plain\"].replace(/\\\\n/g, '\\n').\n",
      "                               replace(/&/g, '&amp;').\n",
      "                               replace(/</g, '&lt;').\n",
      "                               replace(/>/g, '&gt;').\n",
      "                               replace(/\\\"/g, '&quot;').\n",
      "                               replace(/\\'/g, '&#39;') +\n",
      "            \"</pre>\"\n",
      "        );\n",
      "    }\n",
      "    \n",
      "    return mime;\n",
      "}\n",
      "\n",
      "$$mimer$$ = htmlMimer;\n",
      "\n",
      "$$mimer$$(\"Hello, World!\");"
     ],
     "language": "python",
     "metadata": {},
     "outputs": [
      {
       "html": [
        "<pre>{ &#39;text/plain&#39;: &#39;\\&#39;Hello, World!\\&#39;&#39;,\n",
        "  &#39;text/html&#39;: &#39;&lt;pre&gt;&amp;#39;Hello, World!&amp;#39;&lt;/pre&gt;&#39; }</pre>"
       ],
       "metadata": {},
       "output_type": "pyout",
       "prompt_number": 2,
       "text": [
        "{ 'text/plain': '\\'Hello, World!\\'',\n",
        "  'text/html': '<pre>&#39;Hello, World!&#39;</pre>' }"
       ]
      }
     ],
     "prompt_number": 2
    },
    {
     "cell_type": "markdown",
     "metadata": {},
     "source": [
      "## `$$defaultMimer$$`\n",
      "\n",
      "For convenience, the default `$$mimer$$` is always accessible via the immutable global `$$defaultMimer$$`. This allows the default `$$mimer$$` to be restored by running:"
     ]
    },
    {
     "cell_type": "code",
     "collapsed": false,
     "input": [
      "$$mimer$$ = $$defaultMimer$$;\n",
      "\n",
      "$$mimer$$(\"Hello, World!\");"
     ],
     "language": "python",
     "metadata": {},
     "outputs": [
      {
       "metadata": {},
       "output_type": "pyout",
       "prompt_number": 3,
       "text": [
        "{ 'text/plain': '\\'Hello, World!\\'' }"
       ]
      }
     ],
     "prompt_number": 3
    },
    {
     "cell_type": "markdown",
     "metadata": {},
     "source": [
      "## Styled `text/html` `$$mimer$$`\n",
      "\n",
      "Here's another example that extends `htmlMimer()` to produce styled `text.html` outputs:"
     ]
    },
    {
     "cell_type": "code",
     "collapsed": false,
     "input": [
      "function styledMimer(object) {\n",
      "    var mime  = htmlMimer(object);\n",
      "\n",
      "    if (\"text/html\" in mime) {\n",
      "        mime[\"text/html\"] = \"<div style='border: 1px solid grey; \" +\n",
      "                                        \"border-radius: .3em; \" +\n",
      "                                        \"padding: .3em; \" +\n",
      "                                        \"background-color: gainsboro; \" +\n",
      "                                        \"font-weight: bold; \" +\n",
      "                                        \"font-style: italic;'>\" +\n",
      "                            mime[\"text/html\"] +\n",
      "                            \"</div>\";\n",
      "    }\n",
      "\n",
      "    return mime;\n",
      "}\n",
      "\n",
      "$$mimer$$ = styledMimer;\n",
      "\n",
      "$$mimer$$(\"Hello, World!\");"
     ],
     "language": "python",
     "metadata": {},
     "outputs": [
      {
       "html": [
        "<div style='border: 1px solid grey; border-radius: .3em; padding: .3em; background-color: gainsboro; font-weight: bold; font-style: italic;'><pre>{ &#39;text/plain&#39;: &#39;\\&#39;Hello, World!\\&#39;&#39;,\n",
        "  &#39;text/html&#39;: &#39;&lt;div style=\\&#39;border: 1px solid grey; border-radius: .3em; padding: .3em; background-color: gainsboro; font-weight: bold; font-style: italic;\\&#39;&gt;&lt;pre&gt;&amp;#39;Hello, World!&amp;#39;&lt;/pre&gt;&lt;/div&gt;&#39; }</pre></div>"
       ],
       "metadata": {},
       "output_type": "pyout",
       "prompt_number": 4,
       "text": [
        "{ 'text/plain': '\\'Hello, World!\\'',\n",
        "  'text/html': '<div style=\\'border: 1px solid grey; border-radius: .3em; padding: .3em; background-color: gainsboro; font-weight: bold; font-style: italic;\\'><pre>&#39;Hello, World!&#39;</pre></div>' }"
       ]
      }
     ],
     "prompt_number": 4
    },
    {
     "cell_type": "markdown",
     "metadata": {},
     "source": [
      "## Customised output for specific instances\n",
      "\n",
      "This last example implements a `$$mimer$$` that generates a customised output for instances of class `Person`:"
     ]
    },
    {
     "cell_type": "code",
     "collapsed": false,
     "input": [
      "function Person(name, surname) {\n",
      "    this.name = name;\n",
      "    this.surname = surname;\n",
      "}\n",
      "\n",
      "var person = new Person(\"Edwin\", \"Jaynes\");\n",
      "\n",
      "function personMimer(object) {\n",
      "    var mime = personMimer.previousMimer(object);\n",
      "    \n",
      "    if (object instanceof Person) {\n",
      "        mime[\"text/html\"] = \"<table style=\\\"border: 1px solid black;\" +\n",
      "                                           \"border-spacing: .3em;\" + \n",
      "                                           \"border-collapse: separate;\\\">\" +\n",
      "                            \"<tr><th>Name<td>\" + object.name +\n",
      "                            \"<tr><th>Surname<td>\" + object.surname +\n",
      "                            \"</table>\";\n",
      "    }\n",
      "    \n",
      "    return mime;\n",
      "}\n",
      "\n",
      "personMimer.previousMimer = $$mimer$$;\n",
      "\n",
      "$$mimer$$ = personMimer;\n",
      "\n",
      "person;"
     ],
     "language": "python",
     "metadata": {},
     "outputs": [
      {
       "html": [
        "<table style=\"border: 1px solid black;border-spacing: .3em;border-collapse: separate;\"><tr><th>Name<td>Edwin<tr><th>Surname<td>Jaynes</table>"
       ],
       "metadata": {},
       "output_type": "pyout",
       "prompt_number": 5,
       "text": [
        "{ name: 'Edwin', surname: 'Jaynes' }"
       ]
      }
     ],
     "prompt_number": 5
    }
   ],
   "metadata": {}
  }
 ]
}
