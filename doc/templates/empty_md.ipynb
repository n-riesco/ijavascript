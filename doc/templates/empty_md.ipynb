{
 "cells": [
  {
   "cell_type": "markdown",
   "metadata": {},
   "source": [
    "MARKDOWN_GOES_HERE"
   ]
  }
 ],
 "metadata": {
  "kernelspec": {
   "display_name": "Javascript (Node.js)",
   "language": "javascript",
   "name": "javascript"
  },
  "language_info": {
   "name": "javascript",
   "version": "0.10.37"
  }
 },
 "nbformat": 4,
 "nbformat_minor": 0
}
