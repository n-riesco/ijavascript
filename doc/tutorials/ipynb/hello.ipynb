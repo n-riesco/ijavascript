{
 "cells": [
  {
   "cell_type": "code",
   "execution_count": 3,
   "metadata": {
    "collapsed": false
   },
   "outputs": [],
   "source": [
    "var msg = [\"Hello\", \"World!\"].join(\", \")"
   ]
  },
  {
   "cell_type": "code",
   "execution_count": 4,
   "metadata": {
    "collapsed": false
   },
   "outputs": [],
   "source": [
    "msg"
   ]
  },
  {
   "cell_type": "code",
   "execution_count": 5,
   "metadata": {
    "collapsed": false
   },
   "outputs": [
    {
     "name": "stdout",
     "output_type": "stream",
     "text": [
      "Hello, World!\n"
     ]
    }
   ],
   "source": [
    "console.log(msg)"
   ]
  },
  {
   "cell_type": "code",
   "execution_count": 6,
   "metadata": {
    "collapsed": false
   },
   "outputs": [
    {
     "name": "stderr",
     "output_type": "stream",
     "text": [
      "Hello, World!\n"
     ]
    }
   ],
   "source": [
    "console.error(msg)"
   ]
  },
  {
   "cell_type": "code",
   "execution_count": 7,
   "metadata": {
    "collapsed": false
   },
   "outputs": [
    {
     "ename": "Error",
     "evalue": "Oh noes!",
     "output_type": "error",
     "traceback": [
      "Error: Oh noes!",
      "    at evalmachine.<anonymous>:1:7",
      "    at run ([eval]:171:19)",
      "    at onMessage ([eval]:75:41)",
      "    at process.emit (events.js:98:17)",
      "    at handleMessage (child_process.js:322:10)",
      "    at Pipe.channel.onread (child_process.js:349:11)"
     ]
    }
   ],
   "source": [
    "throw new Error(\"Oh noes!\")"
   ]
  }
 ],
 "metadata": {
  "kernelspec": {
   "display_name": "Javascript (Node.js)",
   "language": "javascript",
   "name": "javascript"
  },
  "language_info": {
   "name": "javascript",
   "version": "0.10.37"
  }
 },
 "nbformat": 4,
 "nbformat_minor": 0
}
